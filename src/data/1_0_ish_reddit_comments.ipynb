{
  "nbformat": 4,
  "nbformat_minor": 0,
  "metadata": {
    "colab": {
      "name": "1.0-ish-reddit_comments.ipynb",
      "provenance": [],
      "collapsed_sections": [],
      "include_colab_link": true
    },
    "kernelspec": {
      "name": "python3",
      "display_name": "Python 3"
    },
    "language_info": {
      "name": "python"
    }
  },
  "cells": [
    {
      "cell_type": "markdown",
      "metadata": {
        "id": "view-in-github",
        "colab_type": "text"
      },
      "source": [
        "<a href=\"https://colab.research.google.com/github/mistryishan25/Comprehensive-Project-SEM8/blob/master/src/data/1_0_ish_reddit_comments.ipynb\" target=\"_parent\"><img src=\"https://colab.research.google.com/assets/colab-badge.svg\" alt=\"Open In Colab\"/></a>"
      ]
    },
    {
      "cell_type": "code",
      "source": [
        "!pip install praw"
      ],
      "metadata": {
        "colab": {
          "base_uri": "https://localhost:8080/"
        },
        "id": "tumI5oewUsEY",
        "outputId": "2b9331d4-0331-41e6-f520-42485b69fad4"
      },
      "execution_count": null,
      "outputs": [
        {
          "output_type": "stream",
          "name": "stdout",
          "text": [
            "Collecting praw\n",
            "  Downloading praw-7.5.0-py3-none-any.whl (176 kB)\n",
            "\u001b[K     |████████████████████████████████| 176 kB 5.3 MB/s \n",
            "\u001b[?25hCollecting update-checker>=0.18\n",
            "  Downloading update_checker-0.18.0-py3-none-any.whl (7.0 kB)\n",
            "Collecting websocket-client>=0.54.0\n",
            "  Downloading websocket_client-1.3.2-py3-none-any.whl (54 kB)\n",
            "\u001b[K     |████████████████████████████████| 54 kB 3.1 MB/s \n",
            "\u001b[?25hCollecting prawcore<3,>=2.1\n",
            "  Downloading prawcore-2.3.0-py3-none-any.whl (16 kB)\n",
            "Requirement already satisfied: requests<3.0,>=2.6.0 in /usr/local/lib/python3.7/dist-packages (from prawcore<3,>=2.1->praw) (2.23.0)\n",
            "Requirement already satisfied: chardet<4,>=3.0.2 in /usr/local/lib/python3.7/dist-packages (from requests<3.0,>=2.6.0->prawcore<3,>=2.1->praw) (3.0.4)\n",
            "Requirement already satisfied: idna<3,>=2.5 in /usr/local/lib/python3.7/dist-packages (from requests<3.0,>=2.6.0->prawcore<3,>=2.1->praw) (2.10)\n",
            "Requirement already satisfied: urllib3!=1.25.0,!=1.25.1,<1.26,>=1.21.1 in /usr/local/lib/python3.7/dist-packages (from requests<3.0,>=2.6.0->prawcore<3,>=2.1->praw) (1.24.3)\n",
            "Requirement already satisfied: certifi>=2017.4.17 in /usr/local/lib/python3.7/dist-packages (from requests<3.0,>=2.6.0->prawcore<3,>=2.1->praw) (2021.10.8)\n",
            "Installing collected packages: websocket-client, update-checker, prawcore, praw\n",
            "Successfully installed praw-7.5.0 prawcore-2.3.0 update-checker-0.18.0 websocket-client-1.3.2\n"
          ]
        }
      ]
    },
    {
      "cell_type": "code",
      "execution_count": null,
      "metadata": {
        "id": "W9RUrG9r3YxZ"
      },
      "outputs": [],
      "source": [
        "import pandas as pd\n",
        "import os\n",
        "import seaborn as sns\n",
        "import time\n",
        "import praw"
      ]
    },
    {
      "cell_type": "code",
      "source": [
        "#Create function for extracting comments from submission\n"
      ],
      "metadata": {
        "id": "edMzzraqVp3c"
      },
      "execution_count": null,
      "outputs": []
    },
    {
      "cell_type": "code",
      "source": [
        "# Reddit credentials \n",
        "reddit = praw.Reddit(client_id = 'qhpenVXe2q7xCilAKYZasg', \n",
        "                    client_secret = '-iM2pYW8gY2BeIeReVQ6rU0aFHo4Ag',\n",
        "                    username = 'Affectionate-Bar2857',\n",
        "                    password = 'qwerty123456',\n",
        "                    user_agent = 'testing'\n",
        "                    )"
      ],
      "metadata": {
        "id": "oO9G47r-JxcP"
      },
      "execution_count": null,
      "outputs": []
    },
    {
      "cell_type": "code",
      "source": [
        "from google.colab import drive\n",
        "drive.mount('/content/drive')"
      ],
      "metadata": {
        "colab": {
          "base_uri": "https://localhost:8080/"
        },
        "id": "vw2oB4-kLXwX",
        "outputId": "48b73b31-80e5-4087-b97d-89da47d7621e"
      },
      "execution_count": null,
      "outputs": [
        {
          "output_type": "stream",
          "name": "stdout",
          "text": [
            "Mounted at /content/drive\n"
          ]
        }
      ]
    },
    {
      "cell_type": "code",
      "source": [
        "! pwd\n",
        "os.chdir(\"/content/drive/MyDrive/CP-Sem-8/Datasets/Reddit/\")"
      ],
      "metadata": {
        "colab": {
          "base_uri": "https://localhost:8080/"
        },
        "id": "oEDLMCYtMYy1",
        "outputId": "47678630-a5bc-4153-eea5-66da83ebf2aa"
      },
      "execution_count": null,
      "outputs": [
        {
          "output_type": "stream",
          "name": "stdout",
          "text": [
            "/content\n"
          ]
        }
      ]
    },
    {
      "cell_type": "code",
      "source": [
        "! pwd"
      ],
      "metadata": {
        "colab": {
          "base_uri": "https://localhost:8080/"
        },
        "id": "i1X87ZgPMlPS",
        "outputId": "b218eb94-047f-4225-cb1a-7fa0e498eadd"
      },
      "execution_count": null,
      "outputs": [
        {
          "output_type": "stream",
          "name": "stdout",
          "text": [
            "/content/drive/.shortcut-targets-by-id/1e0qAS7BNSC7KodWw5dcPzwR3-1oc7E43/CP Sem-8/Datasets/Reddit\n"
          ]
        }
      ]
    },
    {
      "cell_type": "code",
      "source": [
        "ASK_REDDIT_2018 = \"/content/drive/MyDrive/CP-Sem-8/Datasets/Reddit/AskReddit/subs_AskReddit_2018.csv\"\n",
        "ASK_REDDIT_2019 = \"/content/drive/MyDrive/CP-Sem-8/Datasets/Reddit/AskReddit/subs_AskReddit_2019.csv\"\n",
        "ASK_REDDIT_2020 = \"/content/drive/MyDrive/CP-Sem-8/Datasets/Reddit/AskReddit/subs_AskReddit_2020.csv\"\n",
        "ASK_REDDIT_2021 = \"/content/drive/MyDrive/CP-Sem-8/Datasets/Reddit/AskReddit/subs_AskReddit_2018.csv\""
      ],
      "metadata": {
        "id": "TqWyb9fbLTvj"
      },
      "execution_count": null,
      "outputs": []
    },
    {
      "cell_type": "code",
      "source": [
        "above_average = df.loc[df[\"num_comms\"]> 1.25*df[\"num_comms\"].mean()]\n",
        "#print(type(above_average))\n",
        "sns.histplot(above_average[\"num_comms\"], bins=10)"
      ],
      "metadata": {
        "colab": {
          "base_uri": "https://localhost:8080/",
          "height": 297
        },
        "id": "5rsUb0yNP4_O",
        "outputId": "5348db3b-1187-4e95-d664-adfd7fa5c46c"
      },
      "execution_count": null,
      "outputs": [
        {
          "output_type": "execute_result",
          "data": {
            "text/plain": [
              "<matplotlib.axes._subplots.AxesSubplot at 0x7fc67b251610>"
            ]
          },
          "metadata": {},
          "execution_count": 43
        },
        {
          "output_type": "display_data",
          "data": {
            "text/plain": [
              "<Figure size 432x288 with 1 Axes>"
            ],
            "image/png": "[encoded data removed]"
          },
          "metadata": {
            "needs_background": "light"
          }
        }
      ]
    },
    {
      "cell_type": "code",
      "source": [
        "sns.histplot(df[\"num_comms\"].loc[df[\"num_comms\"]>=100])"
      ],
      "metadata": {
        "colab": {
          "base_uri": "https://localhost:8080/",
          "height": 297
        },
        "id": "Tw8a-NVLRpqp",
        "outputId": "671ae977-0c04-4d62-f606-d2a35c72b978"
      },
      "execution_count": null,
      "outputs": [
        {
          "output_type": "execute_result",
          "data": {
            "text/plain": [
              "<matplotlib.axes._subplots.AxesSubplot at 0x7fc64ce27850>"
            ]
          },
          "metadata": {},
          "execution_count": 53
        },
        {
          "output_type": "display_data",
          "data": {
            "text/plain": [
              "<Figure size 432x288 with 1 Axes>"
            ],
            "image/png": "[encoded data removed]"
          },
          "metadata": {
            "needs_background": "light"
          }
        }
      ]
    },
    {
      "cell_type": "code",
      "source": [
        "def describe_submissions(file):\n",
        "  df = pd.read_csv(file)\n",
        "  print(df.columns)\n",
        "  df = df.drop(\"text\", axis=1)\n",
        "  print(f\"Maximum of num_comms : {df.max()}\")\n",
        "  print(f\"NAN values: {df.isnull().sum()}\")\n",
        "  return df[\"post_id\"][0]"
      ],
      "metadata": {
        "id": "4U2VZ-_8M9rG"
      },
      "execution_count": null,
      "outputs": []
    },
    {
      "cell_type": "code",
      "source": [
        "x = describe_submissions(ASK_REDDIT_2018)"
      ],
      "metadata": {
        "colab": {
          "base_uri": "https://localhost:8080/"
        },
        "id": "RC_1oLA9X9aX",
        "outputId": "99fc6e58-1bee-4da9-d6d3-ee23db830c83"
      },
      "execution_count": null,
      "outputs": [
        {
          "output_type": "stream",
          "name": "stdout",
          "text": [
            "Index(['post_id', 'title', 'author', 'score', 'publish_date', 'num_comms',\n",
            "       'text'],\n",
            "      dtype='object')\n",
            "Maximum of num_comms : post_id                                                    ab9rji\n",
            "title           “Adults” of reddit, what product/activity did ...\n",
            "author                                                   zzzzloud\n",
            "score                                                      152450\n",
            "publish_date                                  2018-12-31 18:28:57\n",
            "num_comms                                                   53201\n",
            "dtype: object\n",
            "NAN values: post_id         0\n",
            "title           0\n",
            "author          0\n",
            "score           0\n",
            "publish_date    0\n",
            "num_comms       0\n",
            "dtype: int64\n"
          ]
        }
      ]
    },
    {
      "cell_type": "code",
      "source": [
        "extract_comments(x)"
      ],
      "metadata": {
        "colab": {
          "base_uri": "https://localhost:8080/"
        },
        "id": "owABCDw7Y93m",
        "outputId": "f142f3eb-7496-47a8-e5e8-156afea42875"
      },
      "execution_count": null,
      "outputs": [
        {
          "output_type": "stream",
          "name": "stderr",
          "text": [
            "It appears that you are using PRAW in an asynchronous environment.\n",
            "It is strongly recommended to use Async PRAW: https://asyncpraw.readthedocs.io.\n",
            "See https://praw.readthedocs.io/en/latest/getting_started/multiple_instances.html#discord-bots-and-asynchronous-environments for more info.\n",
            "\n"
          ]
        },
        {
          "output_type": "stream",
          "name": "stdout",
          "text": [
            "An inanimate carbon rod, \"in rod we trust.\"\n",
            "I'm looking forward to watching the debates between Kanye and Trump.\n",
            "TBH, probably Trump. He was able to win in 2016 against all odds, and unless the Democrats can get their shit together and find a competent person to run against him, then he will probably win again. \n",
            "Terry Crews\n",
            "In my opinion, Americans (along with the rest of the western world) are getting sick of the \"populist\" and \"anti-establishment\" candidates. Brexit is shaping up to be an utter disaster, Trump is an utter disaster, and abandoning the \"status quo\" just makes things worse.\n",
            "\n",
            "\n",
            "\n",
            "\n",
            "A \"boring\" Democratic candidate (someone like John Delaney) will probably win. \n",
            "It'll be Trump. \n",
            "\n",
            "He'll still get the Republican nomination because 1. He'll still pass things like the tax bill that'll win over Republicans and 2. The Republicans aren't going to waste one of their prized candidates on running against him. Also he's the incumbent so it'll be incredibly unlikely that he'll lose the Republican nomination, especially because that'll be a PR nightmare for the Republicans.\n",
            "\n",
            "Then he'll win the general election because no adequate Democratic candidates will run in 2020.\n",
            "Dwayne \"The Motherfucking Rock\" Johnson. If Mr. I'm loud and no substance got elected, someone loud **with** substance should have no problem\n",
            "If he stays on and doesn't get impeached, Donald Trump, no joke.\n",
            "Joe Biden, all the way. He has the charisma and the record to do it. \n",
            "Trump will be re-elected in 2020. The Democrats will nominate another loser. \n",
            "I'm going to go against the grain here and say Trump's approval rating is pretty bad right now, even among Republicans, and we've seen some surprising wins and big shifts in special elections. That's without much actually changing so far (no wars, no downturn in economy).\n",
            "\n",
            "So if the Democrats don't fuck up too bad (ugh), I can see whoever they nominate winning the election. #45 still has his base for sure, but that's not enough for a win.\n",
            "Joe Kennedy iii. He’s young, has a recognizable name from an American dynasty, Bernie Sanders seems to like him and he looks to be more moderate than left. Just a guess. What do I know?\n",
            "It’s either going to be Trump again, or I could see Joe Biden getting in there and stealing it. \n",
            "Sheev \"The Senate\" Palpatine\n",
            "[deleted]\n",
            "[deleted]\n",
            "Democracy will be dissolved because we proved we can't handle it.\n",
            "[deleted]\n",
            "Some of these comments. 😂😂😂😂 Y'all gotta quit watching MSNBC. Trump will win. Who's gonna beat him? Not a Democrat. That's for sure. \n",
            "Harris, Gellibrand, Biden, and Warren all seem plausible to me. That’s assuming it’s a democrat who wins of course. If it’s a republican it’ll be Trump.\n",
            "\n",
            "Edit: Emphasis on *if it’s a democrat who wins*. Those are just people who I think are likely to be nominated really. It’s overall way to early to call which party it’ll be.\n",
            "Trump will waltz to victory in 2020 and do just fine, like he has his whole life.\n",
            "\n",
            "But he’ll leave the Republican Party in tatters, because they haven’t yet realized that he doesn’t give a crap whether they live or die.\n",
            "Kanye 2020 my man \n",
            "Monica Lewinsky because why not \n",
            "Kamala Harris has my vote. \n",
            "And he thought George Bush didn’t like black people. \n",
            "It required an incredibly unlikely confluence of events, including the second least-popular nominee in history, for Trump to win, and his popularity has since plummeted. If he won again, it would be an enormous shock.\n",
            "I don't know... There were a lot of people who voted for him who were too stupid to look at what he actually wanted. Now that he's president I've seen people saying that they voted for him but don't like what he's doing.\n",
            "Serious question: what has been a disaster about Trump? Democrats like to use their fear mongering and claim the sky is falling, but it's been a year and we're still here and things have been going better than they have in a decade. \n",
            "[deleted]\n",
            "Except Trump had actual skills as a businessman, while \"the Rock\" is just a loud actor who is popular because of his movie roles, kinda like Chuck Norris.\n",
            "[deleted]\n",
            "Trumps approval rating are at the lowest level in the history of taking approval polls.\n",
            "Is he the Kennedy who partnered with Venezuela to bring some of that rich and  prosperous country’s oil to the poor and struggling United States?\n",
            "The *last* thing we need is another dynasty.\n",
            "I don’t think he’ll run at this point, as he’ll be 80 in 2020. I would bet on a progressive winning though. That movement seems to be the biggest wing of the Democratic Party nowadays. I don’t agree with it, but it’s better than Trump.\n",
            "He would get annihilated in the campaign process. He wrote rape fantasies, has never held an actual job, called Venezuela a model of success...everything he's ever done would come back to bite him in the butt.\n",
            "The right would shred him to pieces over his multiple tax scandals, plus what u/Qu4ttro87 wrote, would both probably destroy him.\n",
            "I think he missed his chance, and I say this as someone who wanted to vote for him.\n",
            "starting to like his socialist views? yea right. thats why he was shut out so early the first time.\n",
            ">it is practically impossible to defeat a sitting president \n",
            "\n",
            "\n",
            "The fact that it hasn’t happened recently doesn’t mean that it can’t happen.\n",
            ">it is practically impossible to defeat a sitting President\n",
            "\n",
            "You should invest everything you have in the betting market then. He's barely doing better than a 1 in 4 chance at the moment. \n",
            "\n",
            "edit: Hmm, downvoted by a Trump supporter for stating facts. What are the odds? \n",
            "Trump will not be the sitting president next election. That's my prediction. \n",
            "You act like someone else probably not human or whatever imposed it on us, interesting writing prompt but I doubt it's true\n",
            "Raised money with a collapsed society. Gaining major mass economic victories while tearing the fabric of diversity and unity. I don’t think he loses either because people care more about money than seeking justice for the un-represented \n",
            "Recent elections would say differently.\n",
            "I would move my family to Canada.\n",
            "She may or may not be running at this point. Besides, I think Gellibrand or Biden would be a better bet for the nomination.\n",
            "That's what was said the first time. The most vocal people are those who are against him, and the quietest are those who silently support him because if they were vocal, they'd be attacked. \n",
            "What isn’t a disaster about trump.  Just because stocks are up doesn’t mean things are going well.....\n",
            "Imagine the outrage if instead of \"cracker\", he said the n word. But there won't be any, because racism is apparently a one-way street.\n",
            "\n",
            "EDIT: formatting\n",
            "He was actually famous as a pro wrestler first... that’s where his nickname came from. \n",
            "Skills? lol, the reason he is rich is because daddy was rich, and there is plenty of shady shit on his businesses. \n",
            "The combination of being incumbent and millions of rust belt voters getting their jobs back and taxes lowered is hard to beat\n",
            "That can be slightly misleading IMO. Trump’s approval rating is low 30’s right now. There have definitely been presidents who have polled lower than that (Nixon, and I think maybe W. Bush are examples of this). However, president Trump has the lowest approval *at this point in his presidency* of any other president, which is why people so often say he has the lowest ever.\n",
            "\n",
            "[This website](https://projects.fivethirtyeight.com/trump-approval-ratings/) is a good example of this if you scroll down and set it to the ‘8 years’ setting.\n",
            "\n",
            "Edit: only works on desktop. I just checked, and the only presidents after FDR who haven’t polled lower than Trump’s low (36ish percent) at some point are Obama, Clinton, Kennedy, and Eisenhower.\n",
            "Rape Fantasies????????????\n",
            "Oh it can definetly happen but it will be a long shot. My point is that it is extremely likely He will win reelection \n",
            "People said they were moving to all sorts of places if Trump got in and almost no one did... Kanye is maybe slightly more severe but people would still stick around.\n",
            "What was said the first time? The fact is that the voting supported the idea that most people don't support him. He lost the popular vote by 3 million. In order to win a general election while losing the popular vote by that much, something absurd needs to happen, like the FBI Director making a damaging statement 11 days prior to the election about one of the candidates, or 3 key states being won by a total of 80,000 votes. Anyone who looks at that election and says \"wow, he's a shoo-in for reelection\" is a lunatic.\n",
            "Which reminds me of something. Just because someone may be a good businessman, does not mean they will be a good president who can fix the economy.\n",
            "The economy isn't a disaster. My investments are doing great, my 401K is doing great, people are no longer going to be fined for not being able to afford insurance, tax reform passed and companies are hanging out bonuses again. But, I asked what *was* a disaster and got a non-answer, which leads me to believe that nothing is a disaster.  People just like to whine because they refuse to accept that he's not so bad.\n",
            "Things ARE going better than under Obama. Trump is making an actual effort to secure the southern border, and ISIS is basically gone. The economy is great because of Trump's pro-business stance, leading to investor confidence. Trump's strong language towards Kim-Jong-Un showed North Korea that he was willing to go to war to stop them, unlike Obama, who never went further than imposing sanctions on them.  \n",
            "\n",
            "Yes, Obama \"deported more illegals\" but that is only because the definition of \"deported\" was changed to include those who were turned away at the border. When you count illegal aliens deported after sneaking into the country, Trump has deported more than Obama. \n",
            "\n",
            "Edit: Also, people aren't fined if they don't want to have insurance, which is another plus.\n",
            "He's rich because he has the knowledge to grow capital. You make it sound easy. If it's so easy, I'll give you $1000 if you can guarantee that you can turn it into a few million. After all, it's so easy, right?\n",
            "\"millions of rust belt voters getting their jobs back\"\n",
            "\n",
            "Where is that happening?\n",
            "[He wrote about a woman fantasizing about being raped by three men.](https://nypost.com/2015/06/01/bernie-sanders-says-rape-fantasy-essay-was-fiction/)\n",
            "It’s likely, but the entire political climate could change between now and 2020. He’s served for less than a year, and I think it’s generally too early to make predictions about it.\n",
            "Or, we have select few states with asinine political beliefs. All of Clinton's excess votes were in California. The state that allows people with AIDS to *not* inform their partners and the state that let an illegal who killed a girl off. Those aren't the kind of values that should be given any traction, and it's exactly why we have the Electoral College in place. \n",
            "Oh, right, you're one of the people with power. With a house that's not on fire. Able to serve in the military? Probably. Able to use internet while not paying extra for different websites? Not for long. Oh, can't forget the impending threat of nuclear war that's being outlined in 280 characters at a time.\n",
            "\n",
            "Just because you're having a good time doesn't mean that America is great again. In the land of the free, people are terrified that their speech is being censored, and that should say something.\n",
            "Climate change, healthcare, education system. Three things that are failing worse than most could've imagined.. And yet he's actively making all of them worse. The here and now isn't going so terrible, but he's setting is up for massive failures. Republicans love to hide behind 'but things are going well right now!' yeah. For now. As in not for long. \n",
            "Not American so I don't really have a stake in this. But Trump is not an effective leader. The only thing he's passed is tax cuts for the rich, and despite all republicans wanting that, he made it look like a struggle and had to give concessions to a few hold outs at the last minute.\n",
            "\n",
            "His actions against North Korea haven't stopped anything. In fact last year their nuclear progress and ballistic missile achievement moved at the fastest pace in years. Calling him Rocket man isn't really doing anything, it's expecting the leader of a nuclear armed country will be deterred by school level bullying. His pressure on China effectively stopped after they gave him a meal in the forbidden city, and that was about the only thing that might have made a difference, even that is dubious.\n",
            "\n",
            "If he's a secret mastermind he sure surrounds himself with a bunch of incompetent people and puts his foot in it a lot. Since success breeds success you'd have thought he would have tried to do something properly by now if he had any sort of a plan. I think his plan was to lose to Clinton and get a bit more name recognition and a boost to his bottom line, he didn't even prepare an outline plan for if he won. \n",
            "Yep. People love claiming that Obama is responsible for the economy booming, how convenient that it took off just after he left office. His whole \"you didn't build that\" *really* pissed off a lot of the business world. He instilled no confidence in business people to invest. Why risk more of their capital when people don't appreciate it? Trump isn't perfect, but his pro-business stance brought confidence back. People are willing to invest their capital.\n",
            "It's easy if daddy teaches you all the tricks and gives endless capital to play around with. \n",
            "\n",
            "By the way, he didn't get a humble loan of 1000 when he started. It was a humble loan of 1 million\n",
            "Now, according to Bloomberg.\n",
            "\n",
            "https://www.bloomberg.com/features/2017-trump-heartland-sentiment/#\n",
            "Is this what you guys actually believe or is it just the talking point you've agreed to repeat so that people believe you're not insane?\n",
            "Do you really think that sensationalized fear mongering is going to work? All you're doing is running around screaming *\"The sky is falling! The sky is falling!\"* without any semblance of knowledge to back it up. Any power I have, I have because I worked for it and earned it. My house? Earned it. Military? Nope. Internet? I guess I have a hard time remembering the dark age before 2015 when everything was so terrible. You're so delusional and deranged that you probably actually believe what you're saying. You're rocking back and forth in the corner, cowering while the rest of the country is moving along just fine, and in many cases, better than it has in years. The only people censoring speech are leftists who believe that words have the ability to hurt.\n",
            "Yes, and he grew that humble loan into a few billion. Which is why I asked if I gave you a thousand, if you could grow it into a few million, since that would be an equivalent growth rate. \n",
            "\"...can’t name anything tangible right now other than my mental health is better knowing that Hillary did not become president.\"\n",
            "\n",
            "Good, so feelings as data.\n",
            "\n",
            "\"It feels like a lot of his accomplishments are being overlooked because people just don’t like his personality.\"\n",
            "\n",
            "More feelings, still no data.\n",
            "\n",
            "That article didn't talk about people in the rustbelt getting jobs back.  It was just talking about people's feelings.  The only hard data in there was the people's bios.  So, again, where are \"millions of rust belt voters getting their jobs back?\"\n",
            "\n",
            "Side note, that website design was cancerous.\n",
            "I think you're forgetting that the people without power had earned it as well. And the people with no house. You're fine, I'm fine, but they're not, and Trump's administration is basically ignoring them. Your distance from the harsh political climate is a luxury that many Americans do not have. About censorship, have you noticed what happened with the CDC? 'Transgender' doesn't seem like a word that leftists would block.\n"
          ]
        }
      ]
    },
    {
      "cell_type": "code",
      "source": [
        "submission = reddit.submission(id=x)\n",
        "print(submission.title)\n",
        "print(submission.url)"
      ],
      "metadata": {
        "colab": {
          "base_uri": "https://localhost:8080/"
        },
        "id": "B6xgJjvcZHA-",
        "outputId": "744e35bf-416f-46d3-db9b-75c338c0cd02"
      },
      "execution_count": null,
      "outputs": [
        {
          "output_type": "stream",
          "name": "stderr",
          "text": [
            "It appears that you are using PRAW in an asynchronous environment.\n",
            "It is strongly recommended to use Async PRAW: https://asyncpraw.readthedocs.io.\n",
            "See https://praw.readthedocs.io/en/latest/getting_started/multiple_instances.html#discord-bots-and-asynchronous-environments for more info.\n",
            "\n"
          ]
        },
        {
          "output_type": "stream",
          "name": "stdout",
          "text": [
            "Who do you honestly think will be elected US President in 2020 and why?\n",
            "https://www.reddit.com/r/AskReddit/comments/7na3gg/who_do_you_honestly_think_will_be_elected_us/\n"
          ]
        }
      ]
    },
    {
      "cell_type": "code",
      "source": [
        ""
      ],
      "metadata": {
        "id": "5bJTNaoVZG-G"
      },
      "execution_count": null,
      "outputs": []
    },
    {
      "cell_type": "code",
      "source": [
        ""
      ],
      "metadata": {
        "colab": {
          "base_uri": "https://localhost:8080/"
        },
        "id": "saojnjaDZG5O",
        "outputId": "63653c5b-5b61-422f-d78c-7ad959a200df"
      },
      "execution_count": null,
      "outputs": [
        {
          "output_type": "execute_result",
          "data": {
            "text/plain": [
              "b'{\"message\": \"Too Many Requests\", \"error\": 429}'"
            ]
          },
          "metadata": {},
          "execution_count": 61
        }
      ]
    },
    {
      "cell_type": "code",
      "source": [
        ""
      ],
      "metadata": {
        "id": "_2LwWN6uZGtW"
      },
      "execution_count": null,
      "outputs": []
    },
    {
      "cell_type": "code",
      "source": [
        ""
      ],
      "metadata": {
        "id": "lTLvqb6eWEiG"
      },
      "execution_count": null,
      "outputs": []
    },
    {
      "cell_type": "code",
      "source": [
        "sub = reddit.submission(x)\n",
        "text = []\n",
        "sub.comments.replace_more(limit=None)\n",
        "comment_queue = sub.comments[:]  # Seed with top-level\n",
        "while comment_queue:\n",
        "    comment = comment_queue.pop(0)\n",
        "    #print(comment.body)\n",
        "    text.append(comment.body)\n",
        "    comment_queue.extend(comment.replies)\n",
        "\n",
        "len(text)"
      ],
      "metadata": {
        "id": "7YkwLPPSVsty",
        "colab": {
          "base_uri": "https://localhost:8080/"
        },
        "outputId": "5590d595-5256-4730-cc47-f222c5bd17cf"
      },
      "execution_count": null,
      "outputs": [
        {
          "output_type": "stream",
          "name": "stderr",
          "text": [
            "It appears that you are using PRAW in an asynchronous environment.\n",
            "It is strongly recommended to use Async PRAW: https://asyncpraw.readthedocs.io.\n",
            "See https://praw.readthedocs.io/en/latest/getting_started/multiple_instances.html#discord-bots-and-asynchronous-environments for more info.\n",
            "\n"
          ]
        },
        {
          "output_type": "execute_result",
          "data": {
            "text/plain": [
              "77"
            ]
          },
          "metadata": {},
          "execution_count": 17
        }
      ]
    },
    {
      "cell_type": "code",
      "source": [
        "with open(\"test.txt\", \"w+\") as f:\n",
        "    for index,item in enumerate(text):\n",
        "      f.write(str(index)+\" \" + item + \"\\n\")"
      ],
      "metadata": {
        "id": "CMxuMg3Menx8"
      },
      "execution_count": null,
      "outputs": []
    },
    {
      "cell_type": "code",
      "source": [
        "! cat test.txt"
      ],
      "metadata": {
        "id": "l48sm2l3envZ",
        "colab": {
          "base_uri": "https://localhost:8080/"
        },
        "outputId": "facda8f3-143a-45db-841e-4e3e88df9b82"
      },
      "execution_count": null,
      "outputs": [
        {
          "output_type": "stream",
          "name": "stdout",
          "text": [
            "0 An inanimate carbon rod, \"in rod we trust.\"\n",
            "1 I'm looking forward to watching the debates between Kanye and Trump.\n",
            "2 TBH, probably Trump. He was able to win in 2016 against all odds, and unless the Democrats can get their shit together and find a competent person to run against him, then he will probably win again. \n",
            "3 Terry Crews\n",
            "4 In my opinion, Americans (along with the rest of the western world) are getting sick of the \"populist\" and \"anti-establishment\" candidates. Brexit is shaping up to be an utter disaster, Trump is an utter disaster, and abandoning the \"status quo\" just makes things worse.\n",
            "\n",
            "\n",
            "\n",
            "\n",
            "A \"boring\" Democratic candidate (someone like John Delaney) will probably win. \n",
            "5 It'll be Trump. \n",
            "\n",
            "He'll still get the Republican nomination because 1. He'll still pass things like the tax bill that'll win over Republicans and 2. The Republicans aren't going to waste one of their prized candidates on running against him. Also he's the incumbent so it'll be incredibly unlikely that he'll lose the Republican nomination, especially because that'll be a PR nightmare for the Republicans.\n",
            "\n",
            "Then he'll win the general election because no adequate Democratic candidates will run in 2020.\n",
            "6 Dwayne \"The Motherfucking Rock\" Johnson. If Mr. I'm loud and no substance got elected, someone loud **with** substance should have no problem\n",
            "7 If he stays on and doesn't get impeached, Donald Trump, no joke.\n",
            "8 Joe Biden, all the way. He has the charisma and the record to do it. \n",
            "9 Trump will be re-elected in 2020. The Democrats will nominate another loser. \n",
            "10 I'm going to go against the grain here and say Trump's approval rating is pretty bad right now, even among Republicans, and we've seen some surprising wins and big shifts in special elections. That's without much actually changing so far (no wars, no downturn in economy).\n",
            "\n",
            "So if the Democrats don't fuck up too bad (ugh), I can see whoever they nominate winning the election. #45 still has his base for sure, but that's not enough for a win.\n",
            "11 Joe Kennedy iii. He’s young, has a recognizable name from an American dynasty, Bernie Sanders seems to like him and he looks to be more moderate than left. Just a guess. What do I know?\n",
            "12 It’s either going to be Trump again, or I could see Joe Biden getting in there and stealing it. \n",
            "13 Sheev \"The Senate\" Palpatine\n",
            "14 [deleted]\n",
            "15 [deleted]\n",
            "16 Democracy will be dissolved because we proved we can't handle it.\n",
            "17 [deleted]\n",
            "18 Some of these comments. 😂😂😂😂 Y'all gotta quit watching MSNBC. Trump will win. Who's gonna beat him? Not a Democrat. That's for sure. \n",
            "19 Harris, Gellibrand, Biden, and Warren all seem plausible to me. That’s assuming it’s a democrat who wins of course. If it’s a republican it’ll be Trump.\n",
            "\n",
            "Edit: Emphasis on *if it’s a democrat who wins*. Those are just people who I think are likely to be nominated really. It’s overall way to early to call which party it’ll be.\n",
            "20 Trump will waltz to victory in 2020 and do just fine, like he has his whole life.\n",
            "\n",
            "But he’ll leave the Republican Party in tatters, because they haven’t yet realized that he doesn’t give a crap whether they live or die.\n",
            "21 Kanye 2020 my man \n",
            "22 Monica Lewinsky because why not \n",
            "23 Kamala Harris has my vote. \n",
            "24 And he thought George Bush didn’t like black people. \n",
            "25 It required an incredibly unlikely confluence of events, including the second least-popular nominee in history, for Trump to win, and his popularity has since plummeted. If he won again, it would be an enormous shock.\n",
            "26 I don't know... There were a lot of people who voted for him who were too stupid to look at what he actually wanted. Now that he's president I've seen people saying that they voted for him but don't like what he's doing.\n",
            "27 Serious question: what has been a disaster about Trump? Democrats like to use their fear mongering and claim the sky is falling, but it's been a year and we're still here and things have been going better than they have in a decade. \n",
            "28 [deleted]\n",
            "29 Except Trump had actual skills as a businessman, while \"the Rock\" is just a loud actor who is popular because of his movie roles, kinda like Chuck Norris.\n",
            "30 [deleted]\n",
            "31 Trumps approval rating are at the lowest level in the history of taking approval polls.\n",
            "32 Is he the Kennedy who partnered with Venezuela to bring some of that rich and  prosperous country’s oil to the poor and struggling United States?\n",
            "33 The *last* thing we need is another dynasty.\n",
            "34 I don’t think he’ll run at this point, as he’ll be 80 in 2020. I would bet on a progressive winning though. That movement seems to be the biggest wing of the Democratic Party nowadays. I don’t agree with it, but it’s better than Trump.\n",
            "35 He would get annihilated in the campaign process. He wrote rape fantasies, has never held an actual job, called Venezuela a model of success...everything he's ever done would come back to bite him in the butt.\n",
            "36 The right would shred him to pieces over his multiple tax scandals, plus what u/Qu4ttro87 wrote, would both probably destroy him.\n",
            "37 I think he missed his chance, and I say this as someone who wanted to vote for him.\n",
            "38 starting to like his socialist views? yea right. thats why he was shut out so early the first time.\n",
            "39 >it is practically impossible to defeat a sitting president \n",
            "\n",
            "\n",
            "The fact that it hasn’t happened recently doesn’t mean that it can’t happen.\n",
            "40 >it is practically impossible to defeat a sitting President\n",
            "\n",
            "You should invest everything you have in the betting market then. He's barely doing better than a 1 in 4 chance at the moment. \n",
            "\n",
            "edit: Hmm, downvoted by a Trump supporter for stating facts. What are the odds? \n",
            "41 Trump will not be the sitting president next election. That's my prediction. \n",
            "42 You act like someone else probably not human or whatever imposed it on us, interesting writing prompt but I doubt it's true\n",
            "43 Raised money with a collapsed society. Gaining major mass economic victories while tearing the fabric of diversity and unity. I don’t think he loses either because people care more about money than seeking justice for the un-represented \n",
            "44 Recent elections would say differently.\n",
            "45 I would move my family to Canada.\n",
            "46 She may or may not be running at this point. Besides, I think Gellibrand or Biden would be a better bet for the nomination.\n",
            "47 That's what was said the first time. The most vocal people are those who are against him, and the quietest are those who silently support him because if they were vocal, they'd be attacked. \n",
            "48 What isn’t a disaster about trump.  Just because stocks are up doesn’t mean things are going well.....\n",
            "49 Imagine the outrage if instead of \"cracker\", he said the n word. But there won't be any, because racism is apparently a one-way street.\n",
            "\n",
            "EDIT: formatting\n",
            "50 He was actually famous as a pro wrestler first... that’s where his nickname came from. \n",
            "51 Skills? lol, the reason he is rich is because daddy was rich, and there is plenty of shady shit on his businesses. \n",
            "52 The combination of being incumbent and millions of rust belt voters getting their jobs back and taxes lowered is hard to beat\n",
            "53 That can be slightly misleading IMO. Trump’s approval rating is low 30’s right now. There have definitely been presidents who have polled lower than that (Nixon, and I think maybe W. Bush are examples of this). However, president Trump has the lowest approval *at this point in his presidency* of any other president, which is why people so often say he has the lowest ever.\n",
            "\n",
            "[This website](https://projects.fivethirtyeight.com/trump-approval-ratings/) is a good example of this if you scroll down and set it to the ‘8 years’ setting.\n",
            "\n",
            "Edit: only works on desktop. I just checked, and the only presidents after FDR who haven’t polled lower than Trump’s low (36ish percent) at some point are Obama, Clinton, Kennedy, and Eisenhower.\n",
            "54 Rape Fantasies????????????\n",
            "55 Oh it can definetly happen but it will be a long shot. My point is that it is extremely likely He will win reelection \n",
            "56 People said they were moving to all sorts of places if Trump got in and almost no one did... Kanye is maybe slightly more severe but people would still stick around.\n",
            "57 What was said the first time? The fact is that the voting supported the idea that most people don't support him. He lost the popular vote by 3 million. In order to win a general election while losing the popular vote by that much, something absurd needs to happen, like the FBI Director making a damaging statement 11 days prior to the election about one of the candidates, or 3 key states being won by a total of 80,000 votes. Anyone who looks at that election and says \"wow, he's a shoo-in for reelection\" is a lunatic.\n",
            "58 Which reminds me of something. Just because someone may be a good businessman, does not mean they will be a good president who can fix the economy.\n",
            "59 The economy isn't a disaster. My investments are doing great, my 401K is doing great, people are no longer going to be fined for not being able to afford insurance, tax reform passed and companies are hanging out bonuses again. But, I asked what *was* a disaster and got a non-answer, which leads me to believe that nothing is a disaster.  People just like to whine because they refuse to accept that he's not so bad.\n",
            "60 Things ARE going better than under Obama. Trump is making an actual effort to secure the southern border, and ISIS is basically gone. The economy is great because of Trump's pro-business stance, leading to investor confidence. Trump's strong language towards Kim-Jong-Un showed North Korea that he was willing to go to war to stop them, unlike Obama, who never went further than imposing sanctions on them.  \n",
            "\n",
            "Yes, Obama \"deported more illegals\" but that is only because the definition of \"deported\" was changed to include those who were turned away at the border. When you count illegal aliens deported after sneaking into the country, Trump has deported more than Obama. \n",
            "\n",
            "Edit: Also, people aren't fined if they don't want to have insurance, which is another plus.\n",
            "61 He's rich because he has the knowledge to grow capital. You make it sound easy. If it's so easy, I'll give you $1000 if you can guarantee that you can turn it into a few million. After all, it's so easy, right?\n",
            "62 \"millions of rust belt voters getting their jobs back\"\n",
            "\n",
            "Where is that happening?\n",
            "63 [He wrote about a woman fantasizing about being raped by three men.](https://nypost.com/2015/06/01/bernie-sanders-says-rape-fantasy-essay-was-fiction/)\n",
            "64 It’s likely, but the entire political climate could change between now and 2020. He’s served for less than a year, and I think it’s generally too early to make predictions about it.\n",
            "65 Or, we have select few states with asinine political beliefs. All of Clinton's excess votes were in California. The state that allows people with AIDS to *not* inform their partners and the state that let an illegal who killed a girl off. Those aren't the kind of values that should be given any traction, and it's exactly why we have the Electoral College in place. \n",
            "66 Oh, right, you're one of the people with power. With a house that's not on fire. Able to serve in the military? Probably. Able to use internet while not paying extra for different websites? Not for long. Oh, can't forget the impending threat of nuclear war that's being outlined in 280 characters at a time.\n",
            "\n",
            "Just because you're having a good time doesn't mean that America is great again. In the land of the free, people are terrified that their speech is being censored, and that should say something.\n",
            "67 Climate change, healthcare, education system. Three things that are failing worse than most could've imagined.. And yet he's actively making all of them worse. The here and now isn't going so terrible, but he's setting is up for massive failures. Republicans love to hide behind 'but things are going well right now!' yeah. For now. As in not for long. \n",
            "68 Not American so I don't really have a stake in this. But Trump is not an effective leader. The only thing he's passed is tax cuts for the rich, and despite all republicans wanting that, he made it look like a struggle and had to give concessions to a few hold outs at the last minute.\n",
            "\n",
            "His actions against North Korea haven't stopped anything. In fact last year their nuclear progress and ballistic missile achievement moved at the fastest pace in years. Calling him Rocket man isn't really doing anything, it's expecting the leader of a nuclear armed country will be deterred by school level bullying. His pressure on China effectively stopped after they gave him a meal in the forbidden city, and that was about the only thing that might have made a difference, even that is dubious.\n",
            "\n",
            "If he's a secret mastermind he sure surrounds himself with a bunch of incompetent people and puts his foot in it a lot. Since success breeds success you'd have thought he would have tried to do something properly by now if he had any sort of a plan. I think his plan was to lose to Clinton and get a bit more name recognition and a boost to his bottom line, he didn't even prepare an outline plan for if he won. \n",
            "69 Yep. People love claiming that Obama is responsible for the economy booming, how convenient that it took off just after he left office. His whole \"you didn't build that\" *really* pissed off a lot of the business world. He instilled no confidence in business people to invest. Why risk more of their capital when people don't appreciate it? Trump isn't perfect, but his pro-business stance brought confidence back. People are willing to invest their capital.\n",
            "70 It's easy if daddy teaches you all the tricks and gives endless capital to play around with. \n",
            "\n",
            "By the way, he didn't get a humble loan of 1000 when he started. It was a humble loan of 1 million\n",
            "71 Now, according to Bloomberg.\n",
            "\n",
            "https://www.bloomberg.com/features/2017-trump-heartland-sentiment/#\n",
            "72 Is this what you guys actually believe or is it just the talking point you've agreed to repeat so that people believe you're not insane?\n",
            "73 Do you really think that sensationalized fear mongering is going to work? All you're doing is running around screaming *\"The sky is falling! The sky is falling!\"* without any semblance of knowledge to back it up. Any power I have, I have because I worked for it and earned it. My house? Earned it. Military? Nope. Internet? I guess I have a hard time remembering the dark age before 2015 when everything was so terrible. You're so delusional and deranged that you probably actually believe what you're saying. You're rocking back and forth in the corner, cowering while the rest of the country is moving along just fine, and in many cases, better than it has in years. The only people censoring speech are leftists who believe that words have the ability to hurt.\n",
            "74 Yes, and he grew that humble loan into a few billion. Which is why I asked if I gave you a thousand, if you could grow it into a few million, since that would be an equivalent growth rate. \n",
            "75 \"...can’t name anything tangible right now other than my mental health is better knowing that Hillary did not become president.\"\n",
            "\n",
            "Good, so feelings as data.\n",
            "\n",
            "\"It feels like a lot of his accomplishments are being overlooked because people just don’t like his personality.\"\n",
            "\n",
            "More feelings, still no data.\n",
            "\n",
            "That article didn't talk about people in the rustbelt getting jobs back.  It was just talking about people's feelings.  The only hard data in there was the people's bios.  So, again, where are \"millions of rust belt voters getting their jobs back?\"\n",
            "\n",
            "Side note, that website design was cancerous.\n",
            "76 I think you're forgetting that the people without power had earned it as well. And the people with no house. You're fine, I'm fine, but they're not, and Trump's administration is basically ignoring them. Your distance from the harsh political climate is a luxury that many Americans do not have. About censorship, have you noticed what happened with the CDC? 'Transgender' doesn't seem like a word that leftists would block.\n"
          ]
        }
      ]
    },
    {
      "cell_type": "code",
      "source": [
        "! where test.txt "
      ],
      "metadata": {
        "id": "Q3fOrnYBens5",
        "colab": {
          "base_uri": "https://localhost:8080/"
        },
        "outputId": "67441b46-389d-48c4-cdc9-2614ab617a89"
      },
      "execution_count": null,
      "outputs": [
        {
          "output_type": "stream",
          "name": "stdout",
          "text": [
            "/bin/bash: where: command not found\n"
          ]
        }
      ]
    },
    {
      "cell_type": "code",
      "source": [
        ""
      ],
      "metadata": {
        "id": "f-YgwNm4enpi"
      },
      "execution_count": null,
      "outputs": []
    },
    {
      "cell_type": "code",
      "source": [
        ""
      ],
      "metadata": {
        "id": "IIDiYyYxenjT"
      },
      "execution_count": null,
      "outputs": []
    },
    {
      "cell_type": "code",
      "source": [
        ""
      ],
      "metadata": {
        "id": "BUs2dv88enf6"
      },
      "execution_count": null,
      "outputs": []
    }
  ]
}