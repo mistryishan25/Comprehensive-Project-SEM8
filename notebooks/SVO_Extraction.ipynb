{
  "metadata": {
    "kernelspec": {
      "language": "python",
      "display_name": "Python 3",
      "name": "python3"
    },
    "language_info": {
      "name": "python",
      "version": "3.7.12",
      "mimetype": "text/x-python",
      "codemirror_mode": {
        "name": "ipython",
        "version": 3
      },
      "pygments_lexer": "ipython3",
      "nbconvert_exporter": "python",
      "file_extension": ".py"
    },
    "colab": {
      "provenance": [],
      "include_colab_link": true
    }
  },
  "nbformat_minor": 0,
  "nbformat": 4,
  "cells": [
    {
      "cell_type": "markdown",
      "metadata": {
        "id": "view-in-github",
        "colab_type": "text"
      },
      "source": [
        "<a href=\"https://colab.research.google.com/github/mistryishan25/Comprehensive-Project-SEM8/blob/master/notebooks/SVO_Extraction.ipynb\" target=\"_parent\"><img src=\"https://colab.research.google.com/assets/colab-badge.svg\" alt=\"Open In Colab\"/></a>"
      ]
    },
    {
      "cell_type": "code",
      "source": [
        "# This Python 3 environment comes with many helpful analytics libraries installed\n",
        "# It is defined by the kaggle/python Docker image: https://github.com/kaggle/docker-python\n",
        "# For example, here's several helpful packages to load\n",
        "\n",
        "import numpy as np # linear algebra\n",
        "import pandas as pd # data processing, CSV file I/O (e.g. pd.read_csv)\n",
        "\n",
        "# Input data files are available in the read-only \"../input/\" directory\n",
        "# For example, running this (by clicking run or pressing Shift+Enter) will list all files under the input directory\n",
        "\n",
        "# import os\n",
        "# for dirname, _, filenames in os.walk('/kaggle/input'):\n",
        "#     for filename in filenames:\n",
        "#         print(os.path.join(dirname, filename))\n",
        "\n",
        "# You can write up to 20GB to the current directory (/kaggle/working/) that gets preserved as output when you create a version using \"Save & Run All\" \n",
        "# You can also write temporary files to /kaggle/temp/, but they won't be saved outside of the current session"
      ],
      "metadata": {
        "_uuid": "8f2839f25d086af736a60e9eeb907d3b93b6e0e5",
        "_cell_guid": "b1076dfc-b9ad-4769-8c92-a6c4dae69d19",
        "execution": {
          "iopub.status.busy": "2022-04-08T15:12:42.394669Z",
          "iopub.execute_input": "2022-04-08T15:12:42.395067Z",
          "iopub.status.idle": "2022-04-08T15:12:42.435984Z",
          "shell.execute_reply.started": "2022-04-08T15:12:42.394974Z",
          "shell.execute_reply": "2022-04-08T15:12:42.435252Z"
        },
        "trusted": true,
        "id": "qYMmWCw55BeW"
      },
      "execution_count": null,
      "outputs": []
    },
    {
      "cell_type": "code",
      "source": [
        "from google.colab import drive\n",
        "drive.mount('/content/drive')"
      ],
      "metadata": {
        "id": "rfC3Ht9j5s8L"
      },
      "execution_count": null,
      "outputs": []
    },
    {
      "cell_type": "code",
      "source": [
        "# Installing relevant dependencies\n",
        "!pip install langid\n",
        "!pip install google_trans_new\n",
        "!python -m spacy download en_core_web_md\n",
        "!pip install contractions"
      ],
      "metadata": {
        "execution": {
          "iopub.status.busy": "2022-04-08T15:12:42.448214Z",
          "iopub.execute_input": "2022-04-08T15:12:42.448753Z",
          "iopub.status.idle": "2022-04-08T15:13:52.705035Z",
          "shell.execute_reply.started": "2022-04-08T15:12:42.448700Z",
          "shell.execute_reply": "2022-04-08T15:13:52.704105Z"
        },
        "trusted": true,
        "id": "gE4TkhTv5Beb"
      },
      "execution_count": null,
      "outputs": []
    },
    {
      "cell_type": "code",
      "source": [
        "# Install spacy web-core-md"
      ],
      "metadata": {
        "id": "CyQfqCeb6fGR"
      },
      "execution_count": null,
      "outputs": []
    },
    {
      "cell_type": "code",
      "source": [
        "# Import requisite libraries\n",
        "import numpy as np\n",
        "import pandas as pd\n",
        "import matplotlib.pyplot as plt\n",
        "import nltk\n",
        "from nltk import word_tokenize\n",
        "from nltk import sent_tokenize\n",
        "import string\n",
        "import bs4\n",
        "from bs4 import BeautifulSoup as bs\n",
        "import unicodedata\n",
        "import pickle\n",
        "import contractions\n",
        "\n",
        "# Fast NLP\n",
        "import spacy\n",
        "from spacy import displacy\n",
        "nlp = spacy.load('en_core_web_sm')\n",
        "\n",
        "# Language Detection. \n",
        "import langid\n",
        "\n",
        "## N-Gram based approach\n",
        "from nltk.classify.textcat import TextCat\n",
        "\n",
        "# Google Translator\n",
        "from google_trans_new import google_translator\n",
        "\n",
        "import warnings\n",
        "warnings.filterwarnings('ignore')\n",
        "\n",
        "from collections import Counter, defaultdict\n",
        "import time\n",
        "from datetime import datetime\n",
        "import re\n",
        "import pickle\n",
        "from IPython.display import display, HTML, display_html\n",
        "\n",
        "#Define the maximum and minimum no. of rows and columns\n",
        "pd.set_option('display.max_rows', 100)\n",
        "pd.set_option('display.max_columns', 100)"
      ],
      "metadata": {
        "execution": {
          "iopub.status.busy": "2022-04-08T15:13:52.707372Z",
          "iopub.execute_input": "2022-04-08T15:13:52.707918Z",
          "iopub.status.idle": "2022-04-08T15:14:00.648864Z",
          "shell.execute_reply.started": "2022-04-08T15:13:52.707873Z",
          "shell.execute_reply": "2022-04-08T15:14:00.648149Z"
        },
        "trusted": true,
        "id": "VR4DahwJ5Bec"
      },
      "execution_count": null,
      "outputs": []
    },
    {
      "cell_type": "code",
      "source": [
        "# Downloading the relevant libraries and dependencies in NLTK module for preprocessing\n",
        "nltk.download('punkt')\n",
        "nltk.download('stopwords')\n",
        "nltk.download('wordnet')\n",
        "nltk.download('punkt')\n",
        "nltk.download('averaged_perceptron_tagger')                                                                     \n",
        "from nltk.stem import PorterStemmer\n",
        "from nltk.corpus import stopwords\n",
        "from nltk.stem import WordNetLemmatizer"
      ],
      "metadata": {
        "execution": {
          "iopub.status.busy": "2022-04-08T15:14:00.649922Z",
          "iopub.execute_input": "2022-04-08T15:14:00.650265Z",
          "iopub.status.idle": "2022-04-08T15:14:00.936514Z",
          "shell.execute_reply.started": "2022-04-08T15:14:00.650236Z",
          "shell.execute_reply": "2022-04-08T15:14:00.935278Z"
        },
        "trusted": true,
        "colab": {
          "base_uri": "https://localhost:8080/"
        },
        "id": "j5A1_Mne5Bec",
        "outputId": "9b476d29-3f55-438e-92ca-648d19bf2a73"
      },
      "execution_count": null,
      "outputs": [
        {
          "output_type": "stream",
          "name": "stdout",
          "text": [
            "[nltk_data] Downloading package punkt to /root/nltk_data...\n",
            "[nltk_data]   Unzipping tokenizers/punkt.zip.\n",
            "[nltk_data] Downloading package stopwords to /root/nltk_data...\n",
            "[nltk_data]   Unzipping corpora/stopwords.zip.\n",
            "[nltk_data] Downloading package wordnet to /root/nltk_data...\n",
            "[nltk_data]   Unzipping corpora/wordnet.zip.\n",
            "[nltk_data] Downloading package punkt to /root/nltk_data...\n",
            "[nltk_data]   Package punkt is already up-to-date!\n",
            "[nltk_data] Downloading package averaged_perceptron_tagger to\n",
            "[nltk_data]     /root/nltk_data...\n",
            "[nltk_data]   Unzipping taggers/averaged_perceptron_tagger.zip.\n"
          ]
        }
      ]
    },
    {
      "cell_type": "code",
      "source": [
        "# Importing data\n",
        "path = \"/content/drive/MyDrive/CP Sem-8/Dataset(s)/Youtube/Fun/Jimmy Kemme-Trump.csv\"\n",
        "df = pd.read_csv(path)"
      ],
      "metadata": {
        "execution": {
          "iopub.status.busy": "2022-04-08T15:14:00.938738Z",
          "iopub.execute_input": "2022-04-08T15:14:00.939008Z",
          "iopub.status.idle": "2022-04-08T15:14:00.997328Z",
          "shell.execute_reply.started": "2022-04-08T15:14:00.938977Z",
          "shell.execute_reply": "2022-04-08T15:14:00.996631Z"
        },
        "trusted": true,
        "id": "UVVVHWjO5Bed"
      },
      "execution_count": null,
      "outputs": []
    },
    {
      "cell_type": "code",
      "source": [
        "# Look at data\n",
        "display(df.head())\n",
        "print()\n",
        "\n",
        "# Look at the shape of data\n",
        "display(df.shape)\n",
        "print()\n",
        "\n",
        "# Look at data types for potential mismatch \n",
        "display(df.iloc[:5, :5].dtypes)\n",
        "print()\n",
        "\n",
        "# Data info\n",
        "display(df.iloc[:5, :5].info())\n",
        "print()\n",
        "\n",
        "# Check for null values\n",
        "display(df.iloc[:5, :5].isnull().any())\n",
        "print()\n",
        "\n",
        "# Check for descriptive statistics \n",
        "display(df.describe(percentiles = [0.25, 0.50, 0.75, 0.99]))"
      ],
      "metadata": {
        "execution": {
          "iopub.status.busy": "2022-04-08T15:14:00.998697Z",
          "iopub.execute_input": "2022-04-08T15:14:00.999057Z",
          "iopub.status.idle": "2022-04-08T15:14:01.084611Z",
          "shell.execute_reply.started": "2022-04-08T15:14:00.999013Z",
          "shell.execute_reply": "2022-04-08T15:14:01.083628Z"
        },
        "trusted": true,
        "colab": {
          "base_uri": "https://localhost:8080/",
          "height": 1000
        },
        "id": "KQ5LtaDA5Bee",
        "outputId": "d6fdc231-0dd1-49d2-e6f9-8bf5e8ac57df"
      },
      "execution_count": null,
      "outputs": [
        {
          "output_type": "display_data",
          "data": {
            "text/plain": [
              "               Name                                            Comment  \\\n",
              "0      River Amazon                                   woe si great kid   \n",
              "1  DIANA KLEINHAMPL                        This kid is a comic genius.   \n",
              "2        Pro Gaming                           Ellen, el alofoke de usa   \n",
              "3       Super Cyber                                       superkid....   \n",
              "4        Aleksandar  That kid is amazing.. and the bond with grandp...   \n",
              "\n",
              "                   Time  Likes  Reply Count Reply Author Reply Published  \\\n",
              "0  2022-03-26T14:28:20Z    0.0          0.0          NaN   NaN       NaN   \n",
              "1  2022-03-26T07:59:46Z    0.0          0.0          NaN   NaN       NaN   \n",
              "2  2022-03-25T15:20:02Z    0.0          0.0          NaN   NaN       NaN   \n",
              "3  2022-03-25T13:05:50Z    0.0          0.0          NaN   NaN       NaN   \n",
              "4  2022-03-25T07:44:17Z    0.0          0.0          NaN   NaN       NaN   \n",
              "\n",
              "  Updated  \n",
              "0     NaN  \n",
              "1     NaN  \n",
              "2     NaN  \n",
              "3     NaN  \n",
              "4     NaN  "
            ],
            "text/html": [
              "\n",
              "  <div id=\"df-1334e788-a712-4b8b-8662-6fbd9f4cda47\">\n",
              "    <div class=\"colab-df-container\">\n",
              "      <div>\n",
              "<style scoped>\n",
              "    .dataframe tbody tr th:only-of-type {\n",
              "        vertical-align: middle;\n",
              "    }\n",
              "\n",
              "    .dataframe tbody tr th {\n",
              "        vertical-align: top;\n",
              "    }\n",
              "\n",
              "    .dataframe thead th {\n",
              "        text-align: right;\n",
              "    }\n",
              "</style>\n",
              "<table border=\"1\" class=\"dataframe\">\n",
              "  <thead>\n",
              "    <tr style=\"text-align: right;\">\n",
              "      <th></th>\n",
              "      <th>Name</th>\n",
              "      <th>Comment</th>\n",
              "      <th>Time</th>\n",
              "      <th>Likes</th>\n",
              "      <th>Reply Count</th>\n",
              "      <th>Reply Author</th>\n",
              "      <th>Reply</th>\n",
              "      <th>Published</th>\n",
              "      <th>Updated</th>\n",
              "    </tr>\n",
              "  </thead>\n",
              "  <tbody>\n",
              "    <tr>\n",
              "      <th>0</th>\n",
              "      <td>River Amazon</td>\n",
              "      <td>woe si great kid</td>\n",
              "      <td>2022-03-26T14:28:20Z</td>\n",
              "      <td>0.0</td>\n",
              "      <td>0.0</td>\n",
              "      <td>NaN</td>\n",
              "      <td>NaN</td>\n",
              "      <td>NaN</td>\n",
              "      <td>NaN</td>\n",
              "    </tr>\n",
              "    <tr>\n",
              "      <th>1</th>\n",
              "      <td>DIANA KLEINHAMPL</td>\n",
              "      <td>This kid is a comic genius.</td>\n",
              "      <td>2022-03-26T07:59:46Z</td>\n",
              "      <td>0.0</td>\n",
              "      <td>0.0</td>\n",
              "      <td>NaN</td>\n",
              "      <td>NaN</td>\n",
              "      <td>NaN</td>\n",
              "      <td>NaN</td>\n",
              "    </tr>\n",
              "    <tr>\n",
              "      <th>2</th>\n",
              "      <td>Pro Gaming</td>\n",
              "      <td>Ellen, el alofoke de usa</td>\n",
              "      <td>2022-03-25T15:20:02Z</td>\n",
              "      <td>0.0</td>\n",
              "      <td>0.0</td>\n",
              "      <td>NaN</td>\n",
              "      <td>NaN</td>\n",
              "      <td>NaN</td>\n",
              "      <td>NaN</td>\n",
              "    </tr>\n",
              "    <tr>\n",
              "      <th>3</th>\n",
              "      <td>Super Cyber</td>\n",
              "      <td>superkid....</td>\n",
              "      <td>2022-03-25T13:05:50Z</td>\n",
              "      <td>0.0</td>\n",
              "      <td>0.0</td>\n",
              "      <td>NaN</td>\n",
              "      <td>NaN</td>\n",
              "      <td>NaN</td>\n",
              "      <td>NaN</td>\n",
              "    </tr>\n",
              "    <tr>\n",
              "      <th>4</th>\n",
              "      <td>Aleksandar</td>\n",
              "      <td>That kid is amazing.. and the bond with grandp...</td>\n",
              "      <td>2022-03-25T07:44:17Z</td>\n",
              "      <td>0.0</td>\n",
              "      <td>0.0</td>\n",
              "      <td>NaN</td>\n",
              "      <td>NaN</td>\n",
              "      <td>NaN</td>\n",
              "      <td>NaN</td>\n",
              "    </tr>\n",
              "  </tbody>\n",
              "</table>\n",
              "</div>\n",
              "      <button class=\"colab-df-convert\" onclick=\"convertToInteractive('df-1334e788-a712-4b8b-8662-6fbd9f4cda47')\"\n",
              "              title=\"Convert this dataframe to an interactive table.\"\n",
              "              style=\"display:none;\">\n",
              "        \n",
              "  <svg xmlns=\"http://www.w3.org/2000/svg\" height=\"24px\"viewBox=\"0 0 24 24\"\n",
              "       width=\"24px\">\n",
              "    <path d=\"M0 0h24v24H0V0z\" fill=\"none\"/>\n",
              "    <path d=\"M18.56 5.44l.94 2.06.94-2.06 2.06-.94-2.06-.94-.94-2.06-.94 2.06-2.06.94zm-11 1L8.5 8.5l.94-2.06 2.06-.94-2.06-.94L8.5 2.5l-.94 2.06-2.06.94zm10 10l.94 2.06.94-2.06 2.06-.94-2.06-.94-.94-2.06-.94 2.06-2.06.94z\"/><path d=\"M17.41 7.96l-1.37-1.37c-.4-.4-.92-.59-1.43-.59-.52 0-1.04.2-1.43.59L10.3 9.45l-7.72 7.72c-.78.78-.78 2.05 0 2.83L4 21.41c.39.39.9.59 1.41.59.51 0 1.02-.2 1.41-.59l7.78-7.78 2.81-2.81c.8-.78.8-2.07 0-2.86zM5.41 20L4 18.59l7.72-7.72 1.47 1.35L5.41 20z\"/>\n",
              "  </svg>\n",
              "      </button>\n",
              "      \n",
              "  <style>\n",
              "    .colab-df-container {\n",
              "      display:flex;\n",
              "      flex-wrap:wrap;\n",
              "      gap: 12px;\n",
              "    }\n",
              "\n",
              "    .colab-df-convert {\n",
              "      background-color: #E8F0FE;\n",
              "      border: none;\n",
              "      border-radius: 50%;\n",
              "      cursor: pointer;\n",
              "      display: none;\n",
              "      fill: #1967D2;\n",
              "      height: 32px;\n",
              "      padding: 0 0 0 0;\n",
              "      width: 32px;\n",
              "    }\n",
              "\n",
              "    .colab-df-convert:hover {\n",
              "      background-color: #E2EBFA;\n",
              "      box-shadow: 0px 1px 2px rgba(60, 64, 67, 0.3), 0px 1px 3px 1px rgba(60, 64, 67, 0.15);\n",
              "      fill: #174EA6;\n",
              "    }\n",
              "\n",
              "    [theme=dark] .colab-df-convert {\n",
              "      background-color: #3B4455;\n",
              "      fill: #D2E3FC;\n",
              "    }\n",
              "\n",
              "    [theme=dark] .colab-df-convert:hover {\n",
              "      background-color: #434B5C;\n",
              "      box-shadow: 0px 1px 3px 1px rgba(0, 0, 0, 0.15);\n",
              "      filter: drop-shadow(0px 1px 2px rgba(0, 0, 0, 0.3));\n",
              "      fill: #FFFFFF;\n",
              "    }\n",
              "  </style>\n",
              "\n",
              "      <script>\n",
              "        const buttonEl =\n",
              "          document.querySelector('#df-1334e788-a712-4b8b-8662-6fbd9f4cda47 button.colab-df-convert');\n",
              "        buttonEl.style.display =\n",
              "          google.colab.kernel.accessAllowed ? 'block' : 'none';\n",
              "\n",
              "        async function convertToInteractive(key) {\n",
              "          const element = document.querySelector('#df-1334e788-a712-4b8b-8662-6fbd9f4cda47');\n",
              "          const dataTable =\n",
              "            await google.colab.kernel.invokeFunction('convertToInteractive',\n",
              "                                                     [key], {});\n",
              "          if (!dataTable) return;\n",
              "\n",
              "          const docLinkHtml = 'Like what you see? Visit the ' +\n",
              "            '<a target=\"_blank\" href=https://colab.research.google.com/notebooks/data_table.ipynb>data table notebook</a>'\n",
              "            + ' to learn more about interactive tables.';\n",
              "          element.innerHTML = '';\n",
              "          dataTable['output_type'] = 'display_data';\n",
              "          await google.colab.output.renderOutput(dataTable, element);\n",
              "          const docLink = document.createElement('div');\n",
              "          docLink.innerHTML = docLinkHtml;\n",
              "          element.appendChild(docLink);\n",
              "        }\n",
              "      </script>\n",
              "    </div>\n",
              "  </div>\n",
              "  "
            ]
          },
          "metadata": {}
        },
        {
          "output_type": "stream",
          "name": "stdout",
          "text": [
            "\n"
          ]
        },
        {
          "output_type": "display_data",
          "data": {
            "text/plain": [
              "(9305, 9)"
            ]
          },
          "metadata": {}
        },
        {
          "output_type": "stream",
          "name": "stdout",
          "text": [
            "\n"
          ]
        },
        {
          "output_type": "display_data",
          "data": {
            "text/plain": [
              "Name            object\n",
              "Comment         object\n",
              "Time            object\n",
              "Likes          float64\n",
              "Reply Count    float64\n",
              "dtype: object"
            ]
          },
          "metadata": {}
        },
        {
          "output_type": "stream",
          "name": "stdout",
          "text": [
            "\n",
            "<class 'pandas.core.frame.DataFrame'>\n",
            "RangeIndex: 5 entries, 0 to 4\n",
            "Data columns (total 5 columns):\n",
            " #   Column       Non-Null Count  Dtype  \n",
            "---  ------       --------------  -----  \n",
            " 0   Name         5 non-null      object \n",
            " 1   Comment      5 non-null      object \n",
            " 2   Time         5 non-null      object \n",
            " 3   Likes        5 non-null      float64\n",
            " 4   Reply Count  5 non-null      float64\n",
            "dtypes: float64(2), object(3)\n",
            "memory usage: 328.0+ bytes\n"
          ]
        },
        {
          "output_type": "display_data",
          "data": {
            "text/plain": [
              "None"
            ]
          },
          "metadata": {}
        },
        {
          "output_type": "stream",
          "name": "stdout",
          "text": [
            "\n"
          ]
        },
        {
          "output_type": "display_data",
          "data": {
            "text/plain": [
              "Name           False\n",
              "Comment        False\n",
              "Time           False\n",
              "Likes          False\n",
              "Reply Count    False\n",
              "dtype: bool"
            ]
          },
          "metadata": {}
        },
        {
          "output_type": "stream",
          "name": "stdout",
          "text": [
            "\n"
          ]
        },
        {
          "output_type": "display_data",
          "data": {
            "text/plain": [
              "              Likes  Reply Count\n",
              "count   7563.000000  7563.000000\n",
              "mean      54.066508     0.230332\n",
              "std      598.343152     3.107242\n",
              "min        0.000000     0.000000\n",
              "25%        0.000000     0.000000\n",
              "50%        0.000000     0.000000\n",
              "75%        0.000000     0.000000\n",
              "99%     1227.660000     6.000000\n",
              "max    20454.000000   202.000000"
            ],
            "text/html": [
              "\n",
              "  <div id=\"df-d52177d9-c743-474d-b4e2-682bdb886766\">\n",
              "    <div class=\"colab-df-container\">\n",
              "      <div>\n",
              "<style scoped>\n",
              "    .dataframe tbody tr th:only-of-type {\n",
              "        vertical-align: middle;\n",
              "    }\n",
              "\n",
              "    .dataframe tbody tr th {\n",
              "        vertical-align: top;\n",
              "    }\n",
              "\n",
              "    .dataframe thead th {\n",
              "        text-align: right;\n",
              "    }\n",
              "</style>\n",
              "<table border=\"1\" class=\"dataframe\">\n",
              "  <thead>\n",
              "    <tr style=\"text-align: right;\">\n",
              "      <th></th>\n",
              "      <th>Likes</th>\n",
              "      <th>Reply Count</th>\n",
              "    </tr>\n",
              "  </thead>\n",
              "  <tbody>\n",
              "    <tr>\n",
              "      <th>count</th>\n",
              "      <td>7563.000000</td>\n",
              "      <td>7563.000000</td>\n",
              "    </tr>\n",
              "    <tr>\n",
              "      <th>mean</th>\n",
              "      <td>54.066508</td>\n",
              "      <td>0.230332</td>\n",
              "    </tr>\n",
              "    <tr>\n",
              "      <th>std</th>\n",
              "      <td>598.343152</td>\n",
              "      <td>3.107242</td>\n",
              "    </tr>\n",
              "    <tr>\n",
              "      <th>min</th>\n",
              "      <td>0.000000</td>\n",
              "      <td>0.000000</td>\n",
              "    </tr>\n",
              "    <tr>\n",
              "      <th>25%</th>\n",
              "      <td>0.000000</td>\n",
              "      <td>0.000000</td>\n",
              "    </tr>\n",
              "    <tr>\n",
              "      <th>50%</th>\n",
              "      <td>0.000000</td>\n",
              "      <td>0.000000</td>\n",
              "    </tr>\n",
              "    <tr>\n",
              "      <th>75%</th>\n",
              "      <td>0.000000</td>\n",
              "      <td>0.000000</td>\n",
              "    </tr>\n",
              "    <tr>\n",
              "      <th>99%</th>\n",
              "      <td>1227.660000</td>\n",
              "      <td>6.000000</td>\n",
              "    </tr>\n",
              "    <tr>\n",
              "      <th>max</th>\n",
              "      <td>20454.000000</td>\n",
              "      <td>202.000000</td>\n",
              "    </tr>\n",
              "  </tbody>\n",
              "</table>\n",
              "</div>\n",
              "      <button class=\"colab-df-convert\" onclick=\"convertToInteractive('df-d52177d9-c743-474d-b4e2-682bdb886766')\"\n",
              "              title=\"Convert this dataframe to an interactive table.\"\n",
              "              style=\"display:none;\">\n",
              "        \n",
              "  <svg xmlns=\"http://www.w3.org/2000/svg\" height=\"24px\"viewBox=\"0 0 24 24\"\n",
              "       width=\"24px\">\n",
              "    <path d=\"M0 0h24v24H0V0z\" fill=\"none\"/>\n",
              "    <path d=\"M18.56 5.44l.94 2.06.94-2.06 2.06-.94-2.06-.94-.94-2.06-.94 2.06-2.06.94zm-11 1L8.5 8.5l.94-2.06 2.06-.94-2.06-.94L8.5 2.5l-.94 2.06-2.06.94zm10 10l.94 2.06.94-2.06 2.06-.94-2.06-.94-.94-2.06-.94 2.06-2.06.94z\"/><path d=\"M17.41 7.96l-1.37-1.37c-.4-.4-.92-.59-1.43-.59-.52 0-1.04.2-1.43.59L10.3 9.45l-7.72 7.72c-.78.78-.78 2.05 0 2.83L4 21.41c.39.39.9.59 1.41.59.51 0 1.02-.2 1.41-.59l7.78-7.78 2.81-2.81c.8-.78.8-2.07 0-2.86zM5.41 20L4 18.59l7.72-7.72 1.47 1.35L5.41 20z\"/>\n",
              "  </svg>\n",
              "      </button>\n",
              "      \n",
              "  <style>\n",
              "    .colab-df-container {\n",
              "      display:flex;\n",
              "      flex-wrap:wrap;\n",
              "      gap: 12px;\n",
              "    }\n",
              "\n",
              "    .colab-df-convert {\n",
              "      background-color: #E8F0FE;\n",
              "      border: none;\n",
              "      border-radius: 50%;\n",
              "      cursor: pointer;\n",
              "      display: none;\n",
              "      fill: #1967D2;\n",
              "      height: 32px;\n",
              "      padding: 0 0 0 0;\n",
              "      width: 32px;\n",
              "    }\n",
              "\n",
              "    .colab-df-convert:hover {\n",
              "      background-color: #E2EBFA;\n",
              "      box-shadow: 0px 1px 2px rgba(60, 64, 67, 0.3), 0px 1px 3px 1px rgba(60, 64, 67, 0.15);\n",
              "      fill: #174EA6;\n",
              "    }\n",
              "\n",
              "    [theme=dark] .colab-df-convert {\n",
              "      background-color: #3B4455;\n",
              "      fill: #D2E3FC;\n",
              "    }\n",
              "\n",
              "    [theme=dark] .colab-df-convert:hover {\n",
              "      background-color: #434B5C;\n",
              "      box-shadow: 0px 1px 3px 1px rgba(0, 0, 0, 0.15);\n",
              "      filter: drop-shadow(0px 1px 2px rgba(0, 0, 0, 0.3));\n",
              "      fill: #FFFFFF;\n",
              "    }\n",
              "  </style>\n",
              "\n",
              "      <script>\n",
              "        const buttonEl =\n",
              "          document.querySelector('#df-d52177d9-c743-474d-b4e2-682bdb886766 button.colab-df-convert');\n",
              "        buttonEl.style.display =\n",
              "          google.colab.kernel.accessAllowed ? 'block' : 'none';\n",
              "\n",
              "        async function convertToInteractive(key) {\n",
              "          const element = document.querySelector('#df-d52177d9-c743-474d-b4e2-682bdb886766');\n",
              "          const dataTable =\n",
              "            await google.colab.kernel.invokeFunction('convertToInteractive',\n",
              "                                                     [key], {});\n",
              "          if (!dataTable) return;\n",
              "\n",
              "          const docLinkHtml = 'Like what you see? Visit the ' +\n",
              "            '<a target=\"_blank\" href=https://colab.research.google.com/notebooks/data_table.ipynb>data table notebook</a>'\n",
              "            + ' to learn more about interactive tables.';\n",
              "          element.innerHTML = '';\n",
              "          dataTable['output_type'] = 'display_data';\n",
              "          await google.colab.output.renderOutput(dataTable, element);\n",
              "          const docLink = document.createElement('div');\n",
              "          docLink.innerHTML = docLinkHtml;\n",
              "          element.appendChild(docLink);\n",
              "        }\n",
              "      </script>\n",
              "    </div>\n",
              "  </div>\n",
              "  "
            ]
          },
          "metadata": {}
        }
      ]
    },
    {
      "cell_type": "code",
      "source": [
        "# 'Date-time object' is represented as 'object' data type. Also change the data-type of 'no. of likes' and 'reply count' to 'int64'\n",
        "df.rename(columns = {'Time': 'TimeCombined'}, inplace = True)\n",
        "df['TimeCombined'] = pd.to_datetime(df['TimeCombined'], infer_datetime_format=True)\n",
        "df['Date'] = df['TimeCombined']\n",
        "df['Time'] = df['TimeCombined']\n",
        "df['TimeCombined'] = df['TimeCombined'].astype(str).str.split()\n",
        "\n",
        "#Basic preprocessing for time\n",
        "for index, _ in df.iterrows():\n",
        "  if len(df.loc[index, 'TimeCombined']) > 1:\n",
        "    df.loc[index, 'Date'] = df.loc[index, 'TimeCombined'][0]\n",
        "    df.loc[index, 'Time'] = df.loc[index, 'TimeCombined'][1]\n",
        "    \n",
        "  else:\n",
        "    df.loc[index, 'Date'] = 0\n",
        "    df.loc[index, 'Time'] = 0\n",
        "\n",
        "# Drop the time-combined column later"
      ],
      "metadata": {
        "execution": {
          "iopub.status.busy": "2022-04-08T15:14:01.086511Z",
          "iopub.execute_input": "2022-04-08T15:14:01.086811Z",
          "iopub.status.idle": "2022-04-08T15:14:11.867475Z",
          "shell.execute_reply.started": "2022-04-08T15:14:01.086779Z",
          "shell.execute_reply": "2022-04-08T15:14:11.866418Z"
        },
        "trusted": true,
        "id": "JkRvLfto5Bee"
      },
      "execution_count": null,
      "outputs": []
    },
    {
      "cell_type": "code",
      "source": [
        "# Initialize the stemmer and lemmatizer\n",
        "porter = PorterStemmer()\n",
        "lemmatizer = WordNetLemmatizer()\n",
        "translator = google_translator()"
      ],
      "metadata": {
        "execution": {
          "iopub.status.busy": "2022-04-08T15:14:11.868947Z",
          "iopub.execute_input": "2022-04-08T15:14:11.869346Z",
          "iopub.status.idle": "2022-04-08T15:14:11.875636Z",
          "shell.execute_reply.started": "2022-04-08T15:14:11.869302Z",
          "shell.execute_reply": "2022-04-08T15:14:11.874103Z"
        },
        "trusted": true,
        "id": "-TTbLGR-5Bef"
      },
      "execution_count": null,
      "outputs": []
    },
    {
      "cell_type": "code",
      "source": [
        "adv_tag_list = ['RB', 'RBR', 'RBS']\n",
        "adj_tag_list = ['JJ', 'JJR', 'JJS']\n",
        "verb_tag_list = ['VB', 'VBD', 'VBG', 'VBN', 'VBP']\n",
        "\n",
        "def cleanComment(row, col):\n",
        "  modified_desc_text = []\n",
        "  textNew = \"\"\n",
        "\n",
        "  try:\n",
        "    text = row[col]\n",
        "    text = str(text).strip()\n",
        "    text = bs(text, 'html.parser').get_text()\n",
        "    text = unicodedata.normalize('NFKD', text).encode('ascii', 'ignore').decode('utf-8', 'ignore')\n",
        "    text = re.sub(\"http\\S*\\s\", \"\", text)\n",
        "    text = re.sub(\"(?:[a-zA-Z]\\.){2,}\", \" \", text)\n",
        "    \n",
        "    # for word in process_title1.split():\n",
        "    # word_tag_tuple = nltk.str2tuple(word)\n",
        "    \n",
        "    expanded_words = []\n",
        "    for word in text.split():\n",
        "        \n",
        "        # using contractions.fix top expand the shortened words\n",
        "        expanded_words.append(contractions.fix(word))\n",
        "        \n",
        "    text = ' '.join(expanded_words)\n",
        "\n",
        "    words = nltk.word_tokenize(text)\n",
        "\n",
        "    words = [lemmatizer.lemmatize(word) for word in words] \n",
        "    \n",
        "    tagged_desc_list = nltk.pos_tag(words)\n",
        "\n",
        "    for index, (word, tag) in enumerate(tagged_desc_list):\n",
        "\n",
        "      if tag != 'NNP':\n",
        "        word = word.lower()\n",
        "\n",
        "      modified_desc_text.append(word)\n",
        "\n",
        "    textNew = ' '.join(modified_desc_text)\n",
        "\n",
        "  except Exception as e:\n",
        "    print(str(e))\n",
        "\n",
        "  return nlp(textNew)"
      ],
      "metadata": {
        "execution": {
          "iopub.status.busy": "2022-04-08T15:14:11.877040Z",
          "iopub.execute_input": "2022-04-08T15:14:11.877268Z",
          "iopub.status.idle": "2022-04-08T15:14:12.048057Z",
          "shell.execute_reply.started": "2022-04-08T15:14:11.877241Z",
          "shell.execute_reply": "2022-04-08T15:14:12.047033Z"
        },
        "trusted": true,
        "id": "kDQTczmh5Beg"
      },
      "execution_count": null,
      "outputs": []
    },
    {
      "cell_type": "code",
      "source": [
        "df['Comment_New'] = df.apply(lambda row: cleanComment(row, 'Comment'), axis = 1)\n",
        "df['Replies_New'] = df.apply(lambda row: cleanComment(row, 'Reply'), axis = 1)"
      ],
      "metadata": {
        "execution": {
          "iopub.status.busy": "2022-04-08T15:14:12.050098Z",
          "iopub.execute_input": "2022-04-08T15:14:12.050556Z",
          "iopub.status.idle": "2022-04-08T15:16:58.327037Z",
          "shell.execute_reply.started": "2022-04-08T15:14:12.050419Z",
          "shell.execute_reply": "2022-04-08T15:16:58.325762Z"
        },
        "trusted": true,
        "id": "FskKeNJv5Beh"
      },
      "execution_count": null,
      "outputs": []
    },
    {
      "cell_type": "code",
      "source": [
        "# First a# text = '''hello @NITHISH RAGHAV and @Krish Naik sir currently i am in a third year of B.tech in computer science and i  also want to work in a  data science domain but i don't know where to start learning for ML ,so i started learning from your ML playlist from your website but i have one issue as i have only 52 percentage in my 12th standard and some big companies have a criteria that if you have percentage greater than 60 then only you are eligible for sitting in placement or for the interview so what can be done now as due to that criteria i am not able to attend many company interviews so can what could be done further sir i am confused can you pls help me'''\n",
        "# text = cleanComment(text)\n",
        "# Analyze the language used in comments. First approach is using 'Langid' tool\n",
        "# langs = df['Comment'].apply(langid.classify).to_frame()\n",
        "\n",
        "# Analyse the labels\n",
        "# lang_labels = langs['Comment_New'].apply(lambda row : row[0])\n",
        "# lang_labels.value_counts()\n",
        "# text = '''hello @NITHISH RAGHAV and @Krish Naik sir currently i am in a third year of B.tech in computer science and i  also want to work in a  data science domain but i don't know where to start learning for ML ,so i started learning from your ML playlist from your website but i have one issue as i have only 52 percentage in my 12th standard and some big companies have a criteria that if you have percentage greater than 60 then only you are eligible for sitting in placement or for the interview so what can be done now as due to that criteria i am not able to attend many company interviews so can what could be done further sir i am confused can you pls help me'''\n",
        "\n",
        "# Let's analyse the first ten sentences of our dataset and their corresponding languages\n",
        "# df['Comment_New'].head(40)\n",
        "\n",
        "# Drop the rows with Non-English sentences\n",
        "# indices = []\n",
        "# for index, row in langs.iterrows():\n",
        "#   if row['Comment_New'][0] != 'en':\n",
        "#     indices.append(index)\n",
        "\n",
        "# Dropping rows with Non-English labels\n",
        "# df.drop(df.index[indices], axis = 0, inplace = True)\n",
        "\n",
        "# Next step involves creating SVO tuples\n",
        "# Merge all the comments together\n",
        "\n",
        "# merged_text = \"\"\n",
        "# for _, row in df.iterrows():\n",
        "#   text = str(row['Comment_New'])\n",
        "#   text = text.strip()\n",
        "#   merged_text += text + '.'"
      ],
      "metadata": {
        "execution": {
          "iopub.status.busy": "2022-04-08T15:16:58.330644Z",
          "iopub.execute_input": "2022-04-08T15:16:58.331012Z",
          "iopub.status.idle": "2022-04-08T15:16:58.358192Z",
          "shell.execute_reply.started": "2022-04-08T15:16:58.330967Z",
          "shell.execute_reply": "2022-04-08T15:16:58.357313Z"
        },
        "trusted": true,
        "id": "qSo6E7bJ5Beh"
      },
      "execution_count": null,
      "outputs": []
    },
    {
      "cell_type": "code",
      "source": [
        "# Lets' review a section of the merged text with POS tagging and relevant dependencies\n",
        "# span = doc[0:10]\n",
        "# displacy.render(span, style='dep', jupyter=True)"
      ],
      "metadata": {
        "execution": {
          "iopub.status.busy": "2022-04-08T15:16:58.442112Z",
          "iopub.execute_input": "2022-04-08T15:16:58.442603Z",
          "iopub.status.idle": "2022-04-08T15:16:58.851048Z",
          "shell.execute_reply.started": "2022-04-08T15:16:58.442490Z",
          "shell.execute_reply": "2022-04-08T15:16:58.849620Z"
        },
        "trusted": true,
        "id": "2dNVxjCM5Bej"
      },
      "execution_count": null,
      "outputs": []
    },
    {
      "cell_type": "code",
      "source": [
        "# Defining the subject, verb and predicates\n",
        "SUBJECTS = [\"nsubj\", \"nsubjpass\", \"csubj\", \"csubjpass\", \"agent\", \"expl\"]\n",
        "VERBS = ['ROOT', 'advcl']\n",
        "OBJECTS = [\"dobj\", \"dative\", \"attr\", \"oprd\", 'pobj']\n",
        "ENTITY_LABELS = ['PERSON', 'NORP', 'GPE', 'ORG', 'FAC', 'LOC', 'PRODUCT', 'EVENT', 'WORK_OF_ART']"
      ],
      "metadata": {
        "execution": {
          "iopub.status.busy": "2022-04-08T15:16:58.852377Z",
          "iopub.status.idle": "2022-04-08T15:16:58.852936Z",
          "shell.execute_reply.started": "2022-04-08T15:16:58.852644Z",
          "shell.execute_reply": "2022-04-08T15:16:58.852674Z"
        },
        "trusted": true,
        "id": "iyBxnPpg5Bej"
      },
      "execution_count": null,
      "outputs": []
    },
    {
      "cell_type": "code",
      "source": [
        "# Helper function for creating SVO triples\n",
        "# The code has been borrowed from   \n",
        "def create_svo_lists(text):\n",
        "  subject_ls = []\n",
        "  verb_ls = []\n",
        "  object_ls = []\n",
        "\n",
        "\n",
        "  for token in text:\n",
        "    if token.dep_ in SUBJECTS:\n",
        "      subject_ls.append((token.lower_, token.idx))\n",
        "\n",
        "    elif token.dep_ in VERBS:\n",
        "      verb_ls.append((token.lemma_, token.idx))\n",
        "\n",
        "    elif token.dep_ in OBJECTS:\n",
        "      object_ls.append((token.lower_, token.idx))\n",
        "  \n",
        "  return subject_ls, verb_ls, object_ls\n",
        "\n",
        "\n",
        "def create_svo_triples(row, col):\n",
        "  subject_ls, verb_ls, object_ls = create_svo_lists(row[col])\n",
        "  graph_tup_ls = []\n",
        "  dedup_tup_ls = []\n",
        "  clean_tup_ls = []\n",
        "    \n",
        "  for subj in subject_ls:\n",
        "    for obj in object_ls:\n",
        "\n",
        "      dist_ls = []\n",
        "\n",
        "      for v in verb_ls:\n",
        "            #Assemble a list of distances between each object and each ver\n",
        "            dist_ls.append(abs(obj[1] - v[1]))\n",
        "\n",
        "      # Get the index of the verb with the smallest distance to the object \n",
        "      # and return that verb\n",
        "      index_min = min(range(len(dist_ls)), key=dist_ls.__getitem__)\n",
        "      graph_tup_ls.append([subj[0], verb_ls[index_min][0], obj[0]])\n",
        "\n",
        "  return graph_tup_ls"
      ],
      "metadata": {
        "execution": {
          "iopub.status.busy": "2022-04-08T15:16:58.855320Z",
          "iopub.status.idle": "2022-04-08T15:16:58.855852Z",
          "shell.execute_reply.started": "2022-04-08T15:16:58.855571Z",
          "shell.execute_reply": "2022-04-08T15:16:58.855598Z"
        },
        "trusted": true,
        "id": "SuZd1GXg5Bej"
      },
      "execution_count": null,
      "outputs": []
    },
    {
      "cell_type": "code",
      "source": [
        "# Creating triples\n",
        "df['SVO_Comment'] = df.apply(lambda row: create_svo_triples(row, 'Comment_New'), axis = 1)\n",
        "df['SVO_Reply'] = df.apply(lambda row: create_svo_triples(row, 'Replies_New'), axis = 1)"
      ],
      "metadata": {
        "execution": {
          "iopub.status.busy": "2022-04-08T15:16:58.857440Z",
          "iopub.status.idle": "2022-04-08T15:16:58.858322Z",
          "shell.execute_reply.started": "2022-04-08T15:16:58.858015Z",
          "shell.execute_reply": "2022-04-08T15:16:58.858047Z"
        },
        "trusted": true,
        "id": "SN6gqbQY5Bej"
      },
      "execution_count": null,
      "outputs": []
    },
    {
      "cell_type": "code",
      "source": [
        "# Save as csv\n",
        "df.to_csv('/content/drive/MyDrive/CP Sem-8/Dataset(s)/Processed Data/Youtube/Jimmy-Kemmel.csv')"
      ],
      "metadata": {
        "id": "3j0EA5d95Ben"
      },
      "execution_count": null,
      "outputs": []
    }
  ]
}